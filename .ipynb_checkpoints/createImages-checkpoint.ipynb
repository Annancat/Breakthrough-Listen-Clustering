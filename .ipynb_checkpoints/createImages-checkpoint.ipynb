{
 "cells": [
  {
   "cell_type": "code",
   "execution_count": 1,
   "metadata": {},
   "outputs": [
    {
     "name": "stdout",
     "output_type": "stream",
     "text": [
      "['data/blc17_guppi_57807_77717_DIAG_TRAPPIST1_0025.gpuspec.0001.fil']\n"
     ]
    }
   ],
   "source": [
    "import os, glob, shutil\n",
    "import modified_functions as modif\n",
    "import matplotlib.pyplot as plt\n",
    "from blimpy import Waterfall\n",
    "import blimpy\n",
    "from pathlib import Path\n",
    "from turbo_seti.find_doppler.find_doppler import FindDoppler\n",
    "\n",
    "#removes anything left from the tempImages file from a previous run\n",
    "shutil.rmtree(\"tempImages\")\n",
    "os.mkdir(\"tempImages\")\n",
    "\n",
    "files = sorted(glob.glob(os.path.join(\"data\", '*.fil')))\n",
    "\n",
    "print(files)"
   ]
  },
  {
   "cell_type": "code",
   "execution_count": 2,
   "metadata": {},
   "outputs": [
    {
     "name": "stdout",
     "output_type": "stream",
     "text": [
      "Please wait until all final images are created.\n",
      "Creating temporary images for: OUMUAMUA\n",
      "Creating final image for observation1 of: OUMUAMUA\n"
     ]
    },
    {
     "ename": "ValueError",
     "evalue": "not enough values to unpack (expected 2, got 0)",
     "output_type": "error",
     "traceback": [
      "\u001b[0;31m---------------------------------------------------------------------------\u001b[0m",
      "\u001b[0;31mValueError\u001b[0m                                Traceback (most recent call last)",
      "\u001b[0;32m<ipython-input-2-5581b42ddf50>\u001b[0m in \u001b[0;36m<module>\u001b[0;34m\u001b[0m\n\u001b[1;32m     21\u001b[0m         \u001b[0mnum_of_observations\u001b[0m \u001b[0;34m+=\u001b[0m\u001b[0;36m1\u001b[0m\u001b[0;34m\u001b[0m\u001b[0;34m\u001b[0m\u001b[0m\n\u001b[1;32m     22\u001b[0m         \u001b[0mi\u001b[0m \u001b[0;34m=\u001b[0m \u001b[0;36m0\u001b[0m\u001b[0;34m\u001b[0m\u001b[0;34m\u001b[0m\u001b[0m\n\u001b[0;32m---> 23\u001b[0;31m         \u001b[0mmodif\u001b[0m\u001b[0;34m.\u001b[0m\u001b[0mcombine_pngs\u001b[0m\u001b[0;34m(\u001b[0m\u001b[0mcur_name\u001b[0m\u001b[0;34m)\u001b[0m\u001b[0;34m\u001b[0m\u001b[0;34m\u001b[0m\u001b[0m\n\u001b[0m\u001b[1;32m     24\u001b[0m \u001b[0;34m\u001b[0m\u001b[0m\n\u001b[1;32m     25\u001b[0m \u001b[0mprint\u001b[0m\u001b[0;34m(\u001b[0m\u001b[0;34m\"Completed creating images.\"\u001b[0m\u001b[0;34m)\u001b[0m\u001b[0;34m\u001b[0m\u001b[0;34m\u001b[0m\u001b[0m\n",
      "\u001b[0;32m~/Documents/Summer-Project/modified_functions.py\u001b[0m in \u001b[0;36mcombine_pngs\u001b[0;34m(name, splice)\u001b[0m\n\u001b[1;32m    103\u001b[0m \u001b[0;34m\u001b[0m\u001b[0m\n\u001b[1;32m    104\u001b[0m     \u001b[0mimages\u001b[0m \u001b[0;34m=\u001b[0m \u001b[0;34m[\u001b[0m\u001b[0mImage\u001b[0m\u001b[0;34m.\u001b[0m\u001b[0mopen\u001b[0m\u001b[0;34m(\u001b[0m\u001b[0mx\u001b[0m\u001b[0;34m)\u001b[0m \u001b[0;32mfor\u001b[0m \u001b[0mx\u001b[0m \u001b[0;32min\u001b[0m \u001b[0mfiles\u001b[0m\u001b[0;34m]\u001b[0m\u001b[0;34m\u001b[0m\u001b[0;34m\u001b[0m\u001b[0m\n\u001b[0;32m--> 105\u001b[0;31m     \u001b[0mwidths\u001b[0m\u001b[0;34m,\u001b[0m \u001b[0mheights\u001b[0m \u001b[0;34m=\u001b[0m \u001b[0mzip\u001b[0m\u001b[0;34m(\u001b[0m\u001b[0;34m*\u001b[0m\u001b[0;34m(\u001b[0m\u001b[0mi\u001b[0m\u001b[0;34m.\u001b[0m\u001b[0msize\u001b[0m \u001b[0;32mfor\u001b[0m \u001b[0mi\u001b[0m \u001b[0;32min\u001b[0m \u001b[0mimages\u001b[0m\u001b[0;34m)\u001b[0m\u001b[0;34m)\u001b[0m\u001b[0;34m\u001b[0m\u001b[0;34m\u001b[0m\u001b[0m\n\u001b[0m\u001b[1;32m    106\u001b[0m \u001b[0;34m\u001b[0m\u001b[0m\n\u001b[1;32m    107\u001b[0m     \u001b[0mmax_width\u001b[0m \u001b[0;34m=\u001b[0m \u001b[0mmax\u001b[0m\u001b[0;34m(\u001b[0m\u001b[0mwidths\u001b[0m\u001b[0;34m)\u001b[0m\u001b[0;34m\u001b[0m\u001b[0;34m\u001b[0m\u001b[0m\n",
      "\u001b[0;31mValueError\u001b[0m: not enough values to unpack (expected 2, got 0)"
     ]
    }
   ],
   "source": [
    "cur_name = \"\" #current name of the observation.\n",
    "num_of_observations = 1\n",
    "i = 0\n",
    "print('Please wait until all final images are created.')\n",
    "for file in files:\n",
    "    fil = Waterfall(file,max_load = 5)\n",
    "    modif.waterfall_png(fil)\n",
    "    \n",
    "print(\"Completed creating images.\")"
   ]
  },
  {
   "cell_type": "code",
   "execution_count": 5,
   "metadata": {},
   "outputs": [
    {
     "name": "stdout",
     "output_type": "stream",
     "text": [
      "stix            WARNING  Number of frequency chunks (10) does not evenly divide the number of frequencies (512)!\n",
      "stix            INFO     Image width = 8, height = 8, dpi = 100\n"
     ]
    },
    {
     "ename": "TypeError",
     "evalue": "waterfall_png() missing 1 required positional argument: 'name'",
     "output_type": "error",
     "traceback": [
      "\u001b[0;31m---------------------------------------------------------------------------\u001b[0m",
      "\u001b[0;31mTypeError\u001b[0m                                 Traceback (most recent call last)",
      "\u001b[0;32m<ipython-input-5-0c68da62756d>\u001b[0m in \u001b[0;36m<module>\u001b[0;34m\u001b[0m\n\u001b[1;32m      1\u001b[0m \u001b[0mget_ipython\u001b[0m\u001b[0;34m(\u001b[0m\u001b[0;34m)\u001b[0m\u001b[0;34m.\u001b[0m\u001b[0mrun_line_magic\u001b[0m\u001b[0;34m(\u001b[0m\u001b[0;34m'matplotlib'\u001b[0m\u001b[0;34m,\u001b[0m \u001b[0;34m'inline'\u001b[0m\u001b[0;34m)\u001b[0m\u001b[0;34m\u001b[0m\u001b[0;34m\u001b[0m\u001b[0m\n\u001b[1;32m      2\u001b[0m \u001b[0;32mfor\u001b[0m \u001b[0mfile\u001b[0m \u001b[0;32min\u001b[0m \u001b[0mfiles\u001b[0m\u001b[0;34m:\u001b[0m\u001b[0;34m\u001b[0m\u001b[0;34m\u001b[0m\u001b[0m\n\u001b[0;32m----> 3\u001b[0;31m     \u001b[0mmodif\u001b[0m\u001b[0;34m.\u001b[0m\u001b[0mmake_waterfall_plots\u001b[0m\u001b[0;34m(\u001b[0m\u001b[0mfile\u001b[0m\u001b[0;34m,\u001b[0m\u001b[0;36m10\u001b[0m\u001b[0;34m,\u001b[0m\u001b[0;34m\"t\"\u001b[0m\u001b[0;34m,\u001b[0m\u001b[0;36m8\u001b[0m\u001b[0;34m,\u001b[0m\u001b[0;36m8\u001b[0m\u001b[0;34m,\u001b[0m\u001b[0;36m100\u001b[0m\u001b[0;34m,\u001b[0m\u001b[0;34m\"test\"\u001b[0m\u001b[0;34m)\u001b[0m\u001b[0;34m\u001b[0m\u001b[0;34m\u001b[0m\u001b[0m\n\u001b[0m\u001b[1;32m      4\u001b[0m     \u001b[0;31m#modif.waterfall_png(fil,\"images/\" + fil.header[\"source_name\"])\u001b[0m\u001b[0;34m\u001b[0m\u001b[0;34m\u001b[0m\u001b[0;34m\u001b[0m\u001b[0m\n",
      "\u001b[0;32m~/Documents/Summer-Project/modified_functions.py\u001b[0m in \u001b[0;36mmake_waterfall_plots\u001b[0;34m(input_file, chunk_count, plot_dir, width, height, dpi, source_name)\u001b[0m\n\u001b[1;32m    224\u001b[0m \u001b[0;34m\u001b[0m\u001b[0m\n\u001b[1;32m    225\u001b[0m         \u001b[0;31m# Make plot for this frequency chunk with plot_waterfall().\u001b[0m\u001b[0;34m\u001b[0m\u001b[0;34m\u001b[0m\u001b[0;34m\u001b[0m\u001b[0m\n\u001b[0;32m--> 226\u001b[0;31m         \u001b[0mwaterfall_png\u001b[0m\u001b[0;34m(\u001b[0m\u001b[0mwf\u001b[0m\u001b[0;34m,\u001b[0m \u001b[0mf_start\u001b[0m\u001b[0;34m=\u001b[0m\u001b[0mii_lowest\u001b[0m\u001b[0;34m,\u001b[0m \u001b[0mf_stop\u001b[0m\u001b[0;34m=\u001b[0m\u001b[0mii_highest\u001b[0m\u001b[0;34m)\u001b[0m\u001b[0;34m\u001b[0m\u001b[0;34m\u001b[0m\u001b[0m\n\u001b[0m\u001b[1;32m    227\u001b[0m \u001b[0;34m\u001b[0m\u001b[0m\n\u001b[1;32m    228\u001b[0m         \u001b[0;31m# Save the figures.\u001b[0m\u001b[0;34m\u001b[0m\u001b[0;34m\u001b[0m\u001b[0;34m\u001b[0m\u001b[0m\n",
      "\u001b[0;31mTypeError\u001b[0m: waterfall_png() missing 1 required positional argument: 'name'"
     ]
    }
   ],
   "source": [
    "%matplotlib inline\n",
    "for file in files:\n",
    "    modif.make_waterfall_plots(file,10,\"t\",8,8,100,\"test\")\n",
    "    #modif.waterfall_png(fil,\"images/\" + fil.header[\"source_name\"])"
   ]
  },
  {
   "cell_type": "code",
   "execution_count": null,
   "metadata": {},
   "outputs": [],
   "source": []
  },
  {
   "cell_type": "code",
   "execution_count": 5,
   "metadata": {},
   "outputs": [
    {
     "name": "stdout",
     "output_type": "stream",
     "text": [
      "\n",
      "--- File Info ---\n",
      "      machine_id :                               20\n",
      "    telescope_id :                                6\n",
      "       data_type :                                1\n",
      "            fch1 :           3151.4634132385254 MHz\n",
      "            foff :         -0.00286102294921875 MHz\n",
      "          nchans :                           524288\n",
      "     source_name :                         OUMUAMUA\n",
      "         src_raj :                      23:21:03.84\n",
      "         src_dej :                       7:36:30.24\n",
      "        az_start :                              0.0\n",
      "        za_start :                              0.0\n",
      "           nbits :                               32\n",
      "   tstart (ISOT) :          2017-12-13T22:19:32.000\n",
      "    tstart (MJD) :               58100.930231481485\n",
      "           tsamp :               1.0737418239999998\n",
      "            nifs :                                1\n",
      "\n",
      "Num ints in file :                              279\n",
      "      File shape :                 (279, 1, 524288)\n",
      "--- Selection Info ---\n",
      "Data selection shape :                 (279, 1, 524288)\n",
      "Minimum freq (MHz) :               1651.4662742614746\n",
      "Maximum freq (MHz) :               3151.4634132385254\n"
     ]
    }
   ],
   "source": [
    "fil.info()"
   ]
  },
  {
   "cell_type": "code",
   "execution_count": 4,
   "metadata": {},
   "outputs": [
    {
     "name": "stdout",
     "output_type": "stream",
     "text": [
      "Please wait until all final images are created.\n",
      "Creating temp image for observation 0 of target OUMUAMUA. Splice 0\n",
      "Creating temp image for observation 0 of target OUMUAMUA. Splice 1\n",
      "Creating temp image for observation 0 of target OUMUAMUA. Splice 2\n",
      "Creating temp image for observation 0 of target OUMUAMUA. Splice 3\n",
      "Creating temp image for observation 0 of target OUMUAMUA. Splice 4\n",
      "Creating temp image for observation 0 of target OUMUAMUA. Splice 5\n",
      "Creating temp image for observation 0 of target OUMUAMUA. Splice 6\n",
      "Creating temp image for observation 0 of target OUMUAMUA. Splice 7\n",
      "Creating temp image for observation 0 of target OUMUAMUA. Splice 8\n",
      "Creating temp image for observation 0 of target OUMUAMUA. Splice 9\n",
      "Creating temp image for observation 0 of target OUMUAMUA. Splice 10\n",
      "Creating temp image for observation 0 of target OUMUAMUA. Splice 11\n",
      "Creating temp image for observation 0 of target OUMUAMUA. Splice 12\n",
      "Creating temp image for observation 0 of target OUMUAMUA. Splice 13\n",
      "Creating temp image for observation 0 of target OUMUAMUA. Splice 14\n",
      "Creating temp image for observation 1 of target OUMUAMUA. Splice 0\n",
      "Creating temp image for observation 1 of target OUMUAMUA. Splice 1\n",
      "Creating temp image for observation 1 of target OUMUAMUA. Splice 2\n",
      "Creating temp image for observation 1 of target OUMUAMUA. Splice 3\n",
      "Creating temp image for observation 1 of target OUMUAMUA. Splice 4\n",
      "Creating temp image for observation 1 of target OUMUAMUA. Splice 5\n",
      "Creating temp image for observation 1 of target OUMUAMUA. Splice 6\n",
      "Creating temp image for observation 1 of target OUMUAMUA. Splice 7\n",
      "Creating temp image for observation 1 of target OUMUAMUA. Splice 8\n",
      "Creating temp image for observation 1 of target OUMUAMUA. Splice 9\n",
      "Creating temp image for observation 1 of target OUMUAMUA. Splice 10\n",
      "Creating temp image for observation 1 of target OUMUAMUA. Splice 11\n",
      "Creating temp image for observation 1 of target OUMUAMUA. Splice 12\n",
      "Creating temp image for observation 1 of target OUMUAMUA. Splice 13\n",
      "Creating temp image for observation 1 of target OUMUAMUA. Splice 14\n",
      "Creating temp image for observation 2 of target OUMUAMUA. Splice 0\n",
      "Creating temp image for observation 2 of target OUMUAMUA. Splice 1\n",
      "Creating temp image for observation 2 of target OUMUAMUA. Splice 2\n",
      "Creating temp image for observation 2 of target OUMUAMUA. Splice 3\n",
      "Creating temp image for observation 2 of target OUMUAMUA. Splice 4\n",
      "Creating temp image for observation 2 of target OUMUAMUA. Splice 5\n",
      "Creating temp image for observation 2 of target OUMUAMUA. Splice 6\n",
      "Creating temp image for observation 2 of target OUMUAMUA. Splice 7\n",
      "Creating temp image for observation 2 of target OUMUAMUA. Splice 8\n",
      "Creating temp image for observation 2 of target OUMUAMUA. Splice 9\n",
      "Creating temp image for observation 2 of target OUMUAMUA. Splice 10\n",
      "Creating temp image for observation 2 of target OUMUAMUA. Splice 11\n",
      "Creating temp image for observation 2 of target OUMUAMUA. Splice 12\n",
      "Creating temp image for observation 2 of target OUMUAMUA. Splice 13\n",
      "Creating temp image for observation 2 of target OUMUAMUA. Splice 14\n",
      "Creating temp image for observation 3 of target OUMUAMUA. Splice 0\n",
      "Creating temp image for observation 3 of target OUMUAMUA. Splice 1\n",
      "Creating temp image for observation 3 of target OUMUAMUA. Splice 2\n",
      "Creating temp image for observation 3 of target OUMUAMUA. Splice 3\n",
      "Creating temp image for observation 3 of target OUMUAMUA. Splice 4\n",
      "Creating temp image for observation 3 of target OUMUAMUA. Splice 5\n",
      "Creating temp image for observation 3 of target OUMUAMUA. Splice 6\n",
      "Creating temp image for observation 3 of target OUMUAMUA. Splice 7\n",
      "Creating temp image for observation 3 of target OUMUAMUA. Splice 8\n",
      "Creating temp image for observation 3 of target OUMUAMUA. Splice 9\n",
      "Creating temp image for observation 3 of target OUMUAMUA. Splice 10\n",
      "Creating temp image for observation 3 of target OUMUAMUA. Splice 11\n",
      "Creating temp image for observation 3 of target OUMUAMUA. Splice 12\n",
      "Creating temp image for observation 3 of target OUMUAMUA. Splice 13\n",
      "Creating temp image for observation 3 of target OUMUAMUA. Splice 14\n",
      "Creating temp image for observation 4 of target OUMUAMUA. Splice 0\n",
      "Creating temp image for observation 4 of target OUMUAMUA. Splice 1\n",
      "Creating temp image for observation 4 of target OUMUAMUA. Splice 2\n",
      "Creating temp image for observation 4 of target OUMUAMUA. Splice 3\n",
      "Creating temp image for observation 4 of target OUMUAMUA. Splice 4\n",
      "Creating temp image for observation 4 of target OUMUAMUA. Splice 5\n",
      "Creating temp image for observation 4 of target OUMUAMUA. Splice 6\n",
      "Creating temp image for observation 4 of target OUMUAMUA. Splice 7\n",
      "Creating temp image for observation 4 of target OUMUAMUA. Splice 8\n",
      "Creating temp image for observation 4 of target OUMUAMUA. Splice 9\n",
      "Creating temp image for observation 4 of target OUMUAMUA. Splice 10\n",
      "Creating temp image for observation 4 of target OUMUAMUA. Splice 11\n",
      "Creating temp image for observation 4 of target OUMUAMUA. Splice 12\n",
      "Creating temp image for observation 4 of target OUMUAMUA. Splice 13\n",
      "Creating temp image for observation 4 of target OUMUAMUA. Splice 14\n",
      "Creating temp image for observation 5 of target OUMUAMUA. Splice 0\n",
      "Creating temp image for observation 5 of target OUMUAMUA. Splice 1\n",
      "Creating temp image for observation 5 of target OUMUAMUA. Splice 2\n",
      "Creating temp image for observation 5 of target OUMUAMUA. Splice 3\n",
      "Creating temp image for observation 5 of target OUMUAMUA. Splice 4\n",
      "Creating temp image for observation 5 of target OUMUAMUA. Splice 5\n",
      "Creating temp image for observation 5 of target OUMUAMUA. Splice 6\n",
      "Creating temp image for observation 5 of target OUMUAMUA. Splice 7\n",
      "Creating temp image for observation 5 of target OUMUAMUA. Splice 8\n",
      "Creating temp image for observation 5 of target OUMUAMUA. Splice 9\n",
      "Creating temp image for observation 5 of target OUMUAMUA. Splice 10\n",
      "Creating temp image for observation 5 of target OUMUAMUA. Splice 11\n",
      "Creating temp image for observation 5 of target OUMUAMUA. Splice 12\n",
      "Creating temp image for observation 5 of target OUMUAMUA. Splice 13\n",
      "Creating temp image for observation 5 of target OUMUAMUA. Splice 14\n",
      "\n",
      "-----------------------------\n",
      "Completed temporary images.\n",
      "-----------------------------\n",
      "\n",
      "Creating final image for splice 0 of target OUMUAMUA\n",
      "Creating final image for splice 1 of target OUMUAMUA\n",
      "Creating final image for splice 2 of target OUMUAMUA\n",
      "Creating final image for splice 3 of target OUMUAMUA\n",
      "Creating final image for splice 4 of target OUMUAMUA\n",
      "Creating final image for splice 5 of target OUMUAMUA\n",
      "Creating final image for splice 6 of target OUMUAMUA\n",
      "Creating final image for splice 7 of target OUMUAMUA\n",
      "Creating final image for splice 8 of target OUMUAMUA\n",
      "Creating final image for splice 9 of target OUMUAMUA\n",
      "Creating final image for splice 10 of target OUMUAMUA\n",
      "Creating final image for splice 11 of target OUMUAMUA\n",
      "Creating final image for splice 12 of target OUMUAMUA\n",
      "Creating final image for splice 13 of target OUMUAMUA\n",
      "Creating final image for splice 14 of target OUMUAMUA\n",
      "Completed creating images.\n"
     ]
    }
   ],
   "source": [
    "observation = 0\n",
    "print('Please wait until all final images are created.')\n",
    "for file in files:\n",
    "    fil = Waterfall(file,max_load = 5)\n",
    "    name = fil.header[\"source_name\"]\n",
    "    splice = 0\n",
    "    freqs = fil.get_freqs()\n",
    "    maxFreq = float(freqs[0])\n",
    "    minFreq = float(freqs[-1])\n",
    "    curFreq = minFreq\n",
    "    while curFreq <= maxFreq-100:\n",
    "        print(\"Creating temp image for observation \" + str(observation) +\n",
    "              \" of target \" + name + \". Splice \" + str(splice))\n",
    "        modif.waterfall_png(fil, \"tempImages/\" + name + str(observation) + \"_\" + str(splice),\n",
    "                            f_start = curFreq ,f_stop = curFreq+100)\n",
    "        curFreq+=100\n",
    "        splice+=1\n",
    "    print(\"Creating temp image for observation \" + str(observation) +\n",
    "              \" of target \" + name + \". Splice \" + str(splice))\n",
    "    modif.waterfall_png(fil, \"tempImages/\" + name + str(observation) + \"_\" + str(splice),\n",
    "                            f_start = maxFreq-(maxFreq-curFreq) ,f_stop = maxFreq)   \n",
    "    observation+=1\n",
    "print(\"\\n-----------------------------\")\n",
    "print(\"Completed temporary images.\")\n",
    "print(\"-----------------------------\\n\")\n",
    "for i in range(0,splice+1):\n",
    "    print(\"Creating final image for splice \" + str(i) +\n",
    "              \" of target \" + name)\n",
    "    modif.combine_pngs(name,i)\n",
    "print(\"Completed creating images.\")"
   ]
  }
 ],
 "metadata": {
  "kernelspec": {
   "display_name": "Python 3",
   "language": "python",
   "name": "python3"
  },
  "language_info": {
   "codemirror_mode": {
    "name": "ipython",
    "version": 3
   },
   "file_extension": ".py",
   "mimetype": "text/x-python",
   "name": "python",
   "nbconvert_exporter": "python",
   "pygments_lexer": "ipython3",
   "version": "3.6.10"
  }
 },
 "nbformat": 4,
 "nbformat_minor": 4
}
