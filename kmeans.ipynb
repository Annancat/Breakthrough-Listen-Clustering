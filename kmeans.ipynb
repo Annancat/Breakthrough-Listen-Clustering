{
 "cells": [
  {
   "cell_type": "code",
   "execution_count": 1,
   "metadata": {},
   "outputs": [],
   "source": [
    "import numpy as np\n",
    "from tensorflow.python.keras.models import Model\n",
    "from tensorflow.keras.optimizers import SGD\n",
    "from tensorflow.python.keras.initializers import VarianceScaling\n",
    "from sklearn.cluster import KMeans\n",
    "from custom_layers import autoencoder as auto_encoder\n",
    "from custom_layers import ClusteringLayer\n",
    "import cv2\n",
    "import os, glob, shutil"
   ]
  },
  {
   "cell_type": "code",
   "execution_count": 2,
   "metadata": {},
   "outputs": [],
   "source": [
    "# computing an auxiliary target distribution\n",
    "def target_distribution(q):\n",
    "    weight = q ** 2 / q.sum(0)\n",
    "    return (weight.T / weight.sum(1)).T"
   ]
  },
  {
   "cell_type": "code",
   "execution_count": 3,
   "metadata": {},
   "outputs": [
    {
     "name": "stdout",
     "output_type": "stream",
     "text": [
      "Images loaded\n"
     ]
    }
   ],
   "source": [
    "x_train = [cv2.resize(cv2.imread(file), (224, 224)) for file in glob.glob(\"input/train/images/*.png\")]\n",
    "x_test = [cv2.resize(cv2.imread(file), (224, 224)) for file in glob.glob(\"images/test/images/*.png\")]\n",
    "print(\"Images loaded\")"
   ]
  },
  {
   "cell_type": "code",
   "execution_count": 4,
   "metadata": {},
   "outputs": [],
   "source": [
    "n_clusters = 5  # No. of clusters\n",
    "x = np.concatenate((x_train,x_train))\n",
    "x = x.reshape((x.shape[0], -1))\n",
    "x = np.divide(x, 255.)"
   ]
  },
  {
   "cell_type": "code",
   "execution_count": 5,
   "metadata": {},
   "outputs": [],
   "source": [
    "# dim[0] = og dimensions (w * h) dim[1:] = layers of auto encoder. \n",
    "# Numbers equal the shape the encoder forces the data into in the layer.\n",
    "dims = [x.shape[-1], 500, 500, 2000, 10]\n",
    "init = VarianceScaling(scale=1. / 3., mode='fan_in', distribution='uniform')\n",
    "pretrain_optimizer = SGD(learning_rate=1, momentum=0.9)\n",
    "pretrain_epochs = 20\n",
    "batch_size = 500\n",
    "save_dir = './weights'"
   ]
  },
  {
   "cell_type": "code",
   "execution_count": null,
   "metadata": {},
   "outputs": [
    {
     "name": "stdout",
     "output_type": "stream",
     "text": [
      "Starting training\n",
      "Epoch 1/20\n"
     ]
    }
   ],
   "source": [
    "autoencoder, encoder = auto_encoder(dims, init=init)\n",
    "autoencoder.compile(optimizer=pretrain_optimizer, loss='mse')\n",
    "print(\"Starting training\")\n",
    "autoencoder.fit(x, x, batch_size=batch_size, epochs=pretrain_epochs)\n",
    "autoencoder.save_weights(save_dir + '/ae_weights.h5')"
   ]
  },
  {
   "cell_type": "code",
   "execution_count": null,
   "metadata": {},
   "outputs": [],
   "source": [
    "autoencoder.save_weights(save_dir + '/ae_weights.h5')"
   ]
  },
  {
   "cell_type": "code",
   "execution_count": null,
   "metadata": {},
   "outputs": [],
   "source": [
    "autoencoder.load_weights(save_dir + '/ae_weights.h5')"
   ]
  },
  {
   "cell_type": "code",
   "execution_count": null,
   "metadata": {},
   "outputs": [],
   "source": [
    "clustering_layer = ClusteringLayer(n_clusters, name='clustering')(encoder.output)\n",
    "model = Model(inputs=encoder.input, outputs=clustering_layer)\n",
    "model.compile(optimizer=SGD(0.01, 0.9), loss='kld')"
   ]
  },
  {
   "cell_type": "code",
   "execution_count": null,
   "metadata": {},
   "outputs": [],
   "source": [
    "kmeans = KMeans(n_clusters=n_clusters, n_init=100, verbose=True, max_iter = 1000)\n",
    "y_pred = kmeans.fit_predict(encoder.predict(x))\n",
    "y_pred_last = np.copy(y_pred)\n",
    "model.get_layer(name='clustering').set_weights([kmeans.cluster_centers_])"
   ]
  },
  {
   "cell_type": "code",
   "execution_count": null,
   "metadata": {},
   "outputs": [],
   "source": [
    "model.save_weights(save_dir + '/DEC_model_final.h5')"
   ]
  },
  {
   "cell_type": "code",
   "execution_count": null,
   "metadata": {},
   "outputs": [],
   "source": [
    "model.load_weights(save_dir + '/DEC_model_final.h5')"
   ]
  },
  {
   "cell_type": "code",
   "execution_count": null,
   "metadata": {},
   "outputs": [],
   "source": [
    "paths = glob.glob(\"input/train/images/*.png\")\n",
    "print(\"paths found\")\n",
    "for i in range(n_clusters):\n",
    "    if os.path.exists(\"output/cluster\" + str(i)):\n",
    "        shutil.rmtree(\"output/cluster\" + str(i))\n",
    "        os.makedirs(\"output/cluster\" + str(i))\n",
    "    else:\n",
    "        os.makedirs(\"output/cluster\" + str(i))\n",
    "    print(\"output/cluster\" + str(i))\n",
    "print(\"Moving Images\")\n",
    "for i in range(len(paths)):\n",
    "    shutil.copy2(paths[i], \"output/cluster\"+str(y_pred_last[i]))\n",
    "    print(str(i+1) + \"/\" + str(len(paths)) + \" Images Copied\")"
   ]
  },
  {
   "cell_type": "code",
   "execution_count": null,
   "metadata": {},
   "outputs": [],
   "source": [
    "for \n",
    "#x_train = [cv2.resize(cv2.imread(file), (224, 224)) for file in glob.glob(\"output/cluster0/*.png\")]"
   ]
  }
 ],
 "metadata": {
  "kernelspec": {
   "display_name": "Python 3",
   "language": "python",
   "name": "python3"
  },
  "language_info": {
   "codemirror_mode": {
    "name": "ipython",
    "version": 3
   },
   "file_extension": ".py",
   "mimetype": "text/x-python",
   "name": "python",
   "nbconvert_exporter": "python",
   "pygments_lexer": "ipython3",
   "version": "3.6.10"
  }
 },
 "nbformat": 4,
 "nbformat_minor": 4
}
