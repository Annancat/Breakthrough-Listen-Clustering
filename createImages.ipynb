{
 "cells": [
  {
   "cell_type": "code",
   "execution_count": 1,
   "metadata": {},
   "outputs": [
    {
     "name": "stdout",
     "output_type": "stream",
     "text": [
      "['data/blc20_guppi_57991_48821_3C161_0006.gpuspec.0002.fil', 'data/spliced_blc0001020304050607_guppi_58100_78802_OUMUAMUA_0011.gpuspec.0002.fil', 'data/spliced_blc0001020304050607_guppi_58100_79116_OUMUAMUA_OFF_0012.gpuspec.0002.fil', 'data/spliced_blc0001020304050607_guppi_58100_79430_OUMUAMUA_0013.gpuspec.0002.fil', 'data/spliced_blc0001020304050607_guppi_58100_79744_OUMUAMUA_OFF_0014.gpuspec.0002.fil', 'data/spliced_blc0001020304050607_guppi_58100_80058_OUMUAMUA_0015.gpuspec.0002.fil', 'data/spliced_blc0001020304050607_guppi_58100_80372_OUMUAMUA_OFF_0016.gpuspec.0002.fil']\n"
     ]
    }
   ],
   "source": [
    "import os, glob, shutil\n",
    "import modified_functions as modif\n",
    "import matplotlib.pyplot as plt\n",
    "from blimpy import Waterfall\n",
    "from pathlib import Path\n",
    "from turbo_seti.find_doppler.find_doppler import FindDoppler\n",
    "\n",
    "#removes anything left from the last time the program was run to avoid confusion/ naming issues\n",
    "shutil.rmtree(\"images\")\n",
    "shutil.rmtree(\"tempImages\")\n",
    "os.mkdir(\"images\")\n",
    "os.mkdir(\"tempImages\")\n",
    "\n",
    "files = sorted(glob.glob(os.path.join(\"data\", '*.fil')))\n",
    "\n",
    "print(files)"
   ]
  },
  {
   "cell_type": "code",
   "execution_count": 2,
   "metadata": {},
   "outputs": [
    {
     "name": "stdout",
     "output_type": "stream",
     "text": [
      "Please wait until all final images are created.\n",
      "Creating temporary images for: 3C161\n",
      "Creating final image for observation 1 of: 3C161\n",
      "Creating temporary images for: OUMUAMUA\n",
      "Creating final image for observation1 of: OUMUAMUA\n",
      "Completed creating images.\n"
     ]
    }
   ],
   "source": [
    "cur_name = \"\" #current name of the observation.\n",
    "num_of_observations = 1\n",
    "i = 0\n",
    "print('Please wait until all final images are created.')\n",
    "for file in files:\n",
    "    fil = Waterfall(file)\n",
    "    if fil.header[\"source_name\"] != cur_name:\n",
    "        if i >0 :\n",
    "            print(\"Creating final image for observation \" + str(num_of_observations) +\n",
    "              \" of: \" + cur_name)\n",
    "            modif.combine_pngs(cur_name)\n",
    "        cur_name = fil.header[\"source_name\"]\n",
    "        print(\"Creating temporary images for: \" + cur_name)\n",
    "        num_of_observations = 1\n",
    "        i = 0\n",
    "    modif.waterfall_png(fil,fil.header[\"source_name\"] + str(i))\n",
    "    i+=1\n",
    "    if i > 5:\n",
    "        print(\"Creating final image for observation\" + str(num_of_observations) +\n",
    "              \" of: \" + cur_name)\n",
    "        num_of_observations +=1\n",
    "        i = 0\n",
    "        modif.combine_pngs(cur_name)\n",
    "    \n",
    "print(\"Completed creating images.\")"
   ]
  },
  {
   "cell_type": "code",
   "execution_count": null,
   "metadata": {},
   "outputs": [],
   "source": []
  },
  {
   "cell_type": "code",
   "execution_count": null,
   "metadata": {},
   "outputs": [],
   "source": []
  }
 ],
 "metadata": {
  "kernelspec": {
   "display_name": "Python 3",
   "language": "python",
   "name": "python3"
  },
  "language_info": {
   "codemirror_mode": {
    "name": "ipython",
    "version": 3
   },
   "file_extension": ".py",
   "mimetype": "text/x-python",
   "name": "python",
   "nbconvert_exporter": "python",
   "pygments_lexer": "ipython3",
   "version": "3.6.10"
  }
 },
 "nbformat": 4,
 "nbformat_minor": 4
}
